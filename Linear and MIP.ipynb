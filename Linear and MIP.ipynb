{
 "cells": [
  {
   "cell_type": "code",
   "execution_count": 1,
   "metadata": {},
   "outputs": [],
   "source": [
    "import pulp"
   ]
  },
  {
   "cell_type": "code",
   "execution_count": 2,
   "metadata": {},
   "outputs": [],
   "source": [
    "# Tipo de problema a optimizar\n",
    "\n",
    "model = pulp.LpProblem(\"Path minimising problem\", pulp.LpMinimize)"
   ]
  },
  {
   "cell_type": "code",
   "execution_count": 3,
   "metadata": {},
   "outputs": [],
   "source": [
    "# Definicion de las variables\n",
    "\n",
    "X21 = pulp.LpVariable('X21', lowBound=0, cat='Integer')\n",
    "X32 = pulp.LpVariable('X32', lowBound=0, cat='Integer')\n",
    "X45 = pulp.LpVariable('X45', lowBound=0, cat='Integer')\n",
    "X56 = pulp.LpVariable('X56', lowBound=0, cat='Integer')\n",
    "X87 = pulp.LpVariable('X87', lowBound=0, cat='Integer')\n",
    "X98 = pulp.LpVariable('X98', lowBound=0, cat='Integer')\n",
    "X41 = pulp.LpVariable('X41', lowBound=0, cat='Integer')\n",
    "X74 = pulp.LpVariable('X74', lowBound=0, cat='Integer')\n",
    "X25 = pulp.LpVariable('X25', lowBound=0, cat='Integer')\n",
    "X58 = pulp.LpVariable('X58', lowBound=0, cat='Integer')\n",
    "X63 = pulp.LpVariable('X63', lowBound=0, cat='Integer')\n",
    "X96 = pulp.LpVariable('X96', lowBound=0, cat='Integer')"
   ]
  },
  {
   "cell_type": "code",
   "execution_count": 4,
   "metadata": {},
   "outputs": [],
   "source": [
    "# Definicion de la funcion objetivo\n",
    "\n",
    "model += 7*X21 + 4*X32 + 5*X45 + 8*X56 + 6*X87 + 5*X98 + 9*X41 + 7*X74 + 8*X25 + 9*X58 + 6*X63 + 7*X96 , \"Path\"\n",
    "\n",
    "# Restricciones\n",
    "model += X21 + X41 == 1\n",
    "model += X21 + X25 - X32 == 0\n",
    "model += X32 - X63 == 0\n",
    "model += X41 + X45 - X74 == 0\n",
    "model += X56 + X58 - X25 - X45 == 1\n",
    "model += X63 - X56 - X96 == 0\n",
    "model += X74 - X87 == 0\n",
    "model += X87 - X58 - X98 == 0\n",
    "model += X96 - X98 == 0"
   ]
  },
  {
   "cell_type": "code",
   "execution_count": 5,
   "metadata": {},
   "outputs": [
    {
     "data": {
      "text/plain": [
       "'Optimal'"
      ]
     },
     "execution_count": 5,
     "metadata": {},
     "output_type": "execute_result"
    }
   ],
   "source": [
    "# Solucion encontrada\n",
    "\n",
    "model.solve()\n",
    "pulp.LpStatus[model.status]"
   ]
  },
  {
   "cell_type": "code",
   "execution_count": 6,
   "metadata": {},
   "outputs": [
    {
     "name": "stdout",
     "output_type": "stream",
     "text": [
      "X21 = 1.0\n",
      "X32 = 1.0\n",
      "X45 = 0.0\n",
      "X56 = 1.0\n",
      "X87 = 0.0\n",
      "X98 = 0.0\n",
      "X41 = 0.0\n",
      "X74 = 0.0\n",
      "X25 = 0.0\n",
      "X58 = 0.0\n",
      "X63 = 1.0\n",
      "X96 = 0.0\n"
     ]
    }
   ],
   "source": [
    "# Resultado de las variables, las rutas con valor 1 son las que forman parte de la ruta mas optima \n",
    "\n",
    "print (\"X21 = \" + str(X21.varValue))\n",
    "print (\"X32 = \" + str(X32.varValue))\n",
    "print (\"X45 = \" + str(X45.varValue))\n",
    "print (\"X56 = \" + str(X56.varValue))\n",
    "print (\"X87 = \" + str(X87.varValue))\n",
    "print (\"X98 = \" + str(X98.varValue))\n",
    "print (\"X41 = \" + str(X41.varValue))\n",
    "print (\"X74 = \" + str(X74.varValue))\n",
    "print (\"X25 = \" + str(X25.varValue))\n",
    "print (\"X58 = \" + str(X58.varValue))\n",
    "print (\"X63 = \" + str(X63.varValue))\n",
    "print (\"X96 = \" + str(X96.varValue))"
   ]
  },
  {
   "cell_type": "code",
   "execution_count": 7,
   "metadata": {},
   "outputs": [
    {
     "name": "stdout",
     "output_type": "stream",
     "text": [
      "25.0\n"
     ]
    }
   ],
   "source": [
    "# Valor de la funcion objetivo\n",
    "\n",
    "print (pulp.value(model.objective))"
   ]
  }
 ],
 "metadata": {
  "kernelspec": {
   "display_name": "Python 3",
   "language": "python",
   "name": "python3"
  },
  "language_info": {
   "codemirror_mode": {
    "name": "ipython",
    "version": 3
   },
   "file_extension": ".py",
   "mimetype": "text/x-python",
   "name": "python",
   "nbconvert_exporter": "python",
   "pygments_lexer": "ipython3",
   "version": "3.7.3"
  }
 },
 "nbformat": 4,
 "nbformat_minor": 2
}

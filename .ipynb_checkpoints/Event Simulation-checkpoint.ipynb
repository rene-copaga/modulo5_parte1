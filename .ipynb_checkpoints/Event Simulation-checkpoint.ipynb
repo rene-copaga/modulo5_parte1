{
 "cells": [
  {
   "cell_type": "code",
   "execution_count": 13,
   "metadata": {},
   "outputs": [
    {
     "name": "stdout",
     "output_type": "stream",
     "text": [
      "Atencion en banco\n",
      "0 Cliente 0: llegada\n",
      "0 Cliente 0: Espera 0\n",
      "Nuevo cliente luego de 2 segundos\n",
      "2 Cliente 1: llegada\n",
      "2 Cliente 1: Espera 0\n",
      "Nuevo cliente luego de 1 segundos\n",
      "3 Cliente 2: llegada\n",
      "Nuevo cliente luego de 2 segundos\n",
      "5 Cliente 3: llegada\n",
      "6 Cliente 0: Atendido\n",
      "6 Cliente 2: Espera 3\n",
      "Nuevo cliente luego de 2 segundos\n",
      "7 Cliente 4: llegada\n",
      "Nuevo cliente luego de 1 segundos\n",
      "11 Cliente 1: Atendido\n",
      "11 Cliente 3: Espera 6\n",
      "13 Cliente 2: Atendido\n",
      "13 Cliente 4: Espera 6\n",
      "20 Cliente 3: Atendido\n",
      "22 Cliente 4: Atendido\n"
     ]
    }
   ],
   "source": [
    "import simpy\n",
    "from random import randrange\n",
    "\n",
    "NUMERO_CLIENTES = 5           # Numero total de clientes\n",
    "MAXIMO_INTERVALO_LLEGADA = 3  # Tiempo maximo en el que un nuevo cliente llega al banco\n",
    "MINIMO_TIEMPO_ATENCION = 5    # Tiempo minimo en el que un cliente es atendido por el cajero\n",
    "MAXIMO_TIEMPO_ATENCION = 10   # Tiempo maximo en el que un cliente es atendido por el cajero\n",
    "NUMERO_CAJEROS = 2            # Cantidad de cajeros disponibles para atender a los clientes\n",
    "\n",
    "\n",
    "def generador(env, numero_clientes, maximo_intervalo_llegada, minimo_tiempo_atencion, maximo_tiempo_atencion, cajeros):\n",
    "    for i in range(numero_clientes):\n",
    "        c = cliente(env, 'Cliente {}'.format(i), cajeros, minimo_tiempo_atencion, maximo_tiempo_atencion)\n",
    "        env.process(c)\n",
    "        t = randrange(1, maximo_intervalo_llegada)\n",
    "        yield env.timeout(t)\n",
    "        print('Nuevo cliente luego de {} segundos'.format(t))\n",
    "\n",
    "\n",
    "def cliente(env, nombre, cajeros, minimo_tiempo_atencion, maximo_tiempo_atencion):\n",
    "    llegada = env.now\n",
    "    print('{} {}: llegada'.format(llegada, nombre))\n",
    "\n",
    "    with cajeros.request() as req:\n",
    "        request = yield req\n",
    "\n",
    "        espera = env.now - llegada\n",
    "\n",
    "        print('{} {}: Espera {}'.format(env.now, nombre, espera))\n",
    "\n",
    "        tiempo_atencion = randrange(minimo_tiempo_atencion, maximo_tiempo_atencion)\n",
    "        yield env.timeout(tiempo_atencion)\n",
    "        print('{} {}: Atendido'.format(env.now, nombre))\n",
    "\n",
    "\n",
    "print('Atencion en banco')\n",
    "\n",
    "env = simpy.Environment()\n",
    "\n",
    "cajeros = simpy.Resource(env, capacity=NUMERO_CAJEROS)\n",
    "env.process(generador(env, NUMERO_CLIENTES, MAXIMO_INTERVALO_LLEGADA, MINIMO_TIEMPO_ATENCION, MAXIMO_TIEMPO_ATENCION, cajeros))\n",
    "env.run()"
   ]
  }
 ],
 "metadata": {
  "kernelspec": {
   "display_name": "Python 3",
   "language": "python",
   "name": "python3"
  },
  "language_info": {
   "codemirror_mode": {
    "name": "ipython",
    "version": 3
   },
   "file_extension": ".py",
   "mimetype": "text/x-python",
   "name": "python",
   "nbconvert_exporter": "python",
   "pygments_lexer": "ipython3",
   "version": "3.7.3"
  }
 },
 "nbformat": 4,
 "nbformat_minor": 2
}
